{
 "cells": [
  {
   "cell_type": "markdown",
   "id": "c4d80fd2",
   "metadata": {},
   "source": [
    "# 1. Simplified self-attention\n",
    "To compute the \"attention score\" between input x[1] with query x[2], use \"dot product\" to compute between their embeding: \n",
    "<div align=\"center\">\n",
    "Attention_score = Dot_product(x[1], x[2])\n",
    "</div>"
   ]
  },
  {
   "cell_type": "markdown",
   "id": "9c9a9e3b",
   "metadata": {},
   "source": [
    "<div align=\"center\">\n",
    "    <img src=\"images/books/chap_3/attention_score_example.png\">\n",
    "</div>"
   ]
  },
  {
   "cell_type": "code",
   "execution_count": null,
   "id": "f5a4c0a1",
   "metadata": {},
   "outputs": [],
   "source": [
    "import torch\n",
    "\n",
    "inputs = torch.tensor(\n",
    "    [[0.43, 0.15, 0.89], # Your (x^1)\n",
    "    [0.55, 0.87, 0.66], # journey (x^2)\n",
    "    [0.57, 0.85, 0.64], # starts (x^3)\n",
    "    [0.22, 0.58, 0.33], # with (x^4)\n",
    "    [0.77, 0.25, 0.10], # one (x^5)\n",
    "    [0.05, 0.80, 0.55]] # step (x^6)\n",
    ")"
   ]
  },
  {
   "cell_type": "markdown",
   "id": "295cacdf",
   "metadata": {},
   "source": [
    "Take \"journey\" as query x[2]"
   ]
  },
  {
   "cell_type": "code",
   "execution_count": null,
   "id": "87bd3aea",
   "metadata": {},
   "outputs": [],
   "source": [
    "query = inputs[1] #A\n",
    "print(query) # [0.55, 0.87, 0.66]\n",
    "attn_scores_2 = torch.empty(inputs.shape[0])\n",
    "for i, x_i in enumerate(inputs):\n",
    "    attn_scores_2[i] = torch.dot(x_i, query) # USE DOT PRODUCT\n",
    "print(attn_scores_2)"
   ]
  },
  {
   "cell_type": "markdown",
   "id": "09f887d1",
   "metadata": {},
   "source": [
    "Then normalize the calculated attention score by:\n",
    "<div align=\"center\">\n",
    "Normalize_attention_score = x[i] / sum(x)\n",
    "</div>"
   ]
  },
  {
   "cell_type": "markdown",
   "id": "0c4c4490",
   "metadata": {},
   "source": [
    "<div align=\"center\">\n",
    "    <img src=\"images/books/chap_3/normalize_attention_score.png\">\n",
    "</div>"
   ]
  },
  {
   "cell_type": "code",
   "execution_count": null,
   "id": "ce4651ac",
   "metadata": {},
   "outputs": [],
   "source": [
    "attn_weights_2_tmp = attn_scores_2 / attn_scores_2.sum() # A[i]/sum(A)\n",
    "print(\"Attention weights:\", attn_weights_2_tmp)\n",
    "print(\"Sum:\", attn_weights_2_tmp.sum())"
   ]
  },
  {
   "cell_type": "markdown",
   "id": "34dc8f09",
   "metadata": {},
   "source": [
    "Or we can use Softmax to normalize the attention score\n",
    "<div align=\"center\">\n",
    "Normalize_attention_score = softmax(x)\n",
    "</div>"
   ]
  },
  {
   "cell_type": "code",
   "execution_count": null,
   "id": "8d3b4cc5",
   "metadata": {},
   "outputs": [],
   "source": [
    "# Use softmax ---> Positive numbers\n",
    "def softmax_naive(x):\n",
    "    return torch.exp(x) / torch.exp(x).sum(dim=0)\n",
    "attn_weights_2_naive = softmax_naive(attn_scores_2)\n",
    "print(\"Attention weights:\", attn_weights_2_naive)\n",
    "print(\"Sum:\", attn_weights_2_naive.sum())"
   ]
  },
  {
   "cell_type": "code",
   "execution_count": null,
   "id": "67630c51",
   "metadata": {},
   "outputs": [],
   "source": [
    "attn_weights_2 = torch.softmax(attn_scores_2, dim=0)\n",
    "print(\"Attention weights:\", attn_weights_2)\n",
    "print(\"Sum:\", attn_weights_2.sum())"
   ]
  },
  {
   "cell_type": "markdown",
   "id": "e261d348",
   "metadata": {},
   "source": [
    "<div align=\"center\">\n",
    "    <img src=\"images/books/chap_3/multiply_attention_score.png\">\n",
    "</div>"
   ]
  },
  {
   "cell_type": "markdown",
   "id": "1bce7a6d",
   "metadata": {},
   "source": [
    "After getting the attention score (attention weight) of x[2], multiply them with their corresponding input and sum all the result to get the context vector of x[2] - z[2]"
   ]
  },
  {
   "cell_type": "code",
   "execution_count": null,
   "id": "01fc621d",
   "metadata": {},
   "outputs": [],
   "source": [
    "query = inputs[1] # 2nd input token is the query\n",
    "context_vec_2 = torch.zeros(query.shape)\n",
    "for i, x_i in enumerate(inputs):\n",
    "    context_vec_2 += attn_weights_2[i]*x_i\n",
    "print(context_vec_2)"
   ]
  },
  {
   "cell_type": "markdown",
   "id": "9fcc5e91",
   "metadata": {},
   "source": [
    "Now, apply it to compute attention score of all inputs\n",
    "\n",
    "<table>\n",
    "  <tr>\n",
    "    <td><img src=\"images/books/chap_3/Screenshot 2025-09-19 232100.png\" alt=\"Image 1\" style=\"max-width:100%; height:auto;\"></td>\n",
    "    <td><img src=\"images/books/chap_3/Screenshot 2025-09-19 232341.png\" alt=\"Image 2\" style=\"max-width:100%; height:auto;\"></td>\n",
    "  </tr>\n",
    "</table>"
   ]
  },
  {
   "cell_type": "code",
   "execution_count": null,
   "id": "5ab93820",
   "metadata": {},
   "outputs": [],
   "source": [
    "# STEP 1: Compute attention scores\n",
    "attn_scores = torch.empty(6, 6)\n",
    "for i, x_i in enumerate(inputs):\n",
    "    for j, x_j in enumerate(inputs):\n",
    "        attn_scores[i, j] = torch.dot(x_i, x_j)\n",
    "#  OR\n",
    "attn_scores = inputs @ inputs.T\n",
    "print(attn_scores)"
   ]
  },
  {
   "cell_type": "code",
   "execution_count": null,
   "id": "be7e0bf0",
   "metadata": {},
   "outputs": [],
   "source": [
    "# STEP 2: Normalize attention scores\n",
    "attn_weights = torch.softmax(attn_scores, dim=-1)\n",
    "print(attn_weights)"
   ]
  },
  {
   "cell_type": "code",
   "execution_count": null,
   "id": "0bdb0d2f",
   "metadata": {},
   "outputs": [],
   "source": [
    "# STEP 3: Compute context vector\n",
    "print(attn_weights.shape, inputs.shape)\n",
    "all_context_vecs = attn_weights @ inputs\n",
    "print(all_context_vecs)"
   ]
  },
  {
   "cell_type": "markdown",
   "id": "247cb1ef",
   "metadata": {},
   "source": [
    "# 2. Self-attention\n",
    "In self-attention, there will have 3 new matrices: Key (K), Value (V) and Query (Q). They are used to project the input embedding into K, V and Q vectors\n",
    "<table>\n",
    "  <tr>\n",
    "    <td><img src=\"images/books/chap_3/Screenshot 2025-09-20 010042.png\" alt=\"Image 1\" style=\"max-width:100%; height:auto;\"></td>\n",
    "    <td><img src=\"images/books/chap_3/Screenshot 2025-09-20 014032.png\" alt=\"Image 2\" style=\"max-width:100%; height:auto;\"></td>\n",
    "  </tr>\n",
    "</table>"
   ]
  },
  {
   "cell_type": "code",
   "execution_count": null,
   "id": "b29da63e",
   "metadata": {},
   "outputs": [],
   "source": [
    "torch.manual_seed(123)\n",
    "x_2 = inputs[1] #A\n",
    "d_in = inputs.shape[1] #B\n",
    "d_out = 2\n",
    "\n",
    "# K, V and Q matrices\n",
    "W_query = torch.nn.Parameter(torch.rand(d_in, d_out), requires_grad=False)\n",
    "W_key = torch.nn.Parameter(torch.rand(d_in, d_out), requires_grad=False)\n",
    "W_value = torch.nn.Parameter(torch.rand(d_in, d_out), requires_grad=False)\n",
    "\n",
    "# K, V and Q vectors\n",
    "query_2 = x_2 @ W_query\n",
    "key_2 = x_2 @ W_key\n",
    "value_2 = x_2 @ W_value\n",
    "print(query_2)\n",
    "\n",
    "# Get all Ks and Vs\n",
    "keys = inputs @ W_key\n",
    "values = inputs @ W_value\n",
    "print(\"keys.shape:\", keys.shape)\n",
    "print(\"values.shape:\", values.shape)"
   ]
  },
  {
   "cell_type": "code",
   "execution_count": null,
   "id": "5b97a068",
   "metadata": {},
   "outputs": [],
   "source": [
    "#  STEP 1: Attention score of query input 2 - journey\n",
    "attn_scores_2 = query_2 @ keys.T\n",
    "\n",
    "# STEP 2: Normalize - Attention weight\n",
    "d_k = keys.shape[-1]\n",
    "attn_weights_2 = torch.softmax(attn_scores_2 / d_k**0.5, dim=-1)\n",
    "print(attn_weights_2)\n",
    "\n",
    "# STEP 3: Context vector\n",
    "context_vec_2 = attn_weights_2 @ values"
   ]
  },
  {
   "cell_type": "code",
   "execution_count": null,
   "id": "56aec05d",
   "metadata": {},
   "outputs": [],
   "source": [
    "import torch.nn as nn\n",
    "class SelfAttention_v1(nn.Module):\n",
    "    def __init__(self, d_in, d_out):\n",
    "        super().__init__()\n",
    "        self.d_out = d_out\n",
    "        self.W_query = nn.Parameter(torch.rand(d_in, d_out))\n",
    "        self.W_key = nn.Parameter(torch.rand(d_in, d_out))\n",
    "        self.W_value = nn.Parameter(torch.rand(d_in, d_out))\n",
    "        \n",
    "    def forward(self, x):\n",
    "        keys = x @ self.W_key\n",
    "        queries = x @ self.W_query\n",
    "        values = x @ self.W_value\n",
    "        attn_scores = queries @ keys.T # omega\n",
    "        attn_weights = torch.softmax(\n",
    "            attn_scores / keys.shape[-1]**0.5, dim=-1)\n",
    "        context_vec = attn_weights @ values\n",
    "        return context_vec\n",
    "\n",
    "# Linear store matrix as transposed form\n",
    "# Parameter (2, 3) -> shape: 2, 3\n",
    "# Linear (2, 3) -> shape: 3, 2 \n",
    "class SelfAttention_v2(nn.Module):\n",
    "    def __init__(self, d_in, d_out, qkv_bias=False):\n",
    "        super().__init__()\n",
    "        self.d_out = d_out\n",
    "        self.W_query = nn.Linear(d_in, d_out, bias=qkv_bias)\n",
    "        self.W_key = nn.Linear(d_in, d_out, bias=qkv_bias)\n",
    "        self.W_value = nn.Linear(d_in, d_out, bias=qkv_bias)\n",
    "\n",
    "    def forward(self, x):\n",
    "        keys = self.W_key(x)\n",
    "        queries = self.W_query(x)\n",
    "        values = self.W_value(x)\n",
    "        attn_scores = queries @ keys.T\n",
    "        attn_weights = torch.softmax(attn_scores / keys.shape[-1]**0.5, dim=-1)\n",
    "        context_vec = attn_weights @ values\n",
    "        return context_vec"
   ]
  },
  {
   "cell_type": "markdown",
   "id": "87cbd7be",
   "metadata": {},
   "source": [
    "# 3. Hidden future words\n",
    "Use masked out to hide next word\n",
    "\n",
    "<table>\n",
    "  <tr>\n",
    "    <td><img src=\"images/books/chap_3/Screenshot 2025-09-20 014622.png\"\" alt=\"Image 1\" style=\"max-width:100%; height:auto;\"></td>\n",
    "    <td><img src=\"images/books/chap_3/Screenshot 2025-09-20 014839.png\" alt=\"Image 2\" style=\"max-width:100%; height:auto;\"></td>\n",
    "  </tr>\n",
    "</table>"
   ]
  },
  {
   "cell_type": "code",
   "execution_count": null,
   "id": "325b9725",
   "metadata": {},
   "outputs": [],
   "source": []
  },
  {
   "cell_type": "code",
   "execution_count": null,
   "id": "9c9a6162",
   "metadata": {},
   "outputs": [],
   "source": []
  }
 ],
 "metadata": {
  "kernelspec": {
   "display_name": "learn",
   "language": "python",
   "name": "python3"
  },
  "language_info": {
   "codemirror_mode": {
    "name": "ipython",
    "version": 3
   },
   "file_extension": ".py",
   "mimetype": "text/x-python",
   "name": "python",
   "nbconvert_exporter": "python",
   "pygments_lexer": "ipython3",
   "version": "3.12.11"
  }
 },
 "nbformat": 4,
 "nbformat_minor": 5
}
